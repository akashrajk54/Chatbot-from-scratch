{
 "cells": [
  {
   "cell_type": "markdown",
   "metadata": {},
   "source": [
    "# Creating  chatbot: Understanding_Bot"
   ]
  },
  {
   "cell_type": "code",
   "execution_count": 1,
   "metadata": {},
   "outputs": [],
   "source": [
    "#import en_core_web_lg # Large SpaCy model for English language\n",
    "import numpy as np\n",
    "import re # regular expressions\n",
    "import spacy # NLU library\n",
    "\n",
    "from collections import defaultdict\n",
    "from sklearn.svm import SVC # Support Vector Classification model"
   ]
  },
  {
   "cell_type": "code",
   "execution_count": null,
   "metadata": {},
   "outputs": [],
   "source": []
  },
  {
   "cell_type": "code",
   "execution_count": 2,
   "metadata": {},
   "outputs": [],
   "source": [
    "output_format = \"IN: {input}\\nOUT: {output}\\n\" + \"_\"*50"
   ]
  },
  {
   "cell_type": "code",
   "execution_count": 3,
   "metadata": {},
   "outputs": [],
   "source": [
    "# Version 1: Use exact matches"
   ]
  },
  {
   "cell_type": "code",
   "execution_count": 4,
   "metadata": {},
   "outputs": [],
   "source": [
    "# hard-coded exact questions\n",
    "responses_exact = {\n",
    "    \"what would you like to eat tonight?\": \"Pasta with salmon and red pesto please!\",\n",
    "    \"what time will you be home tonight?\": \"I will be home around 6 pm.\",\n",
    "    \"default\": \"I love you too!\"\n",
    "}\n",
    "\n",
    "def respond_exact(text):\n",
    "    response = responses_exact.get(text.lower(),responses_exact['default'])\n",
    "    return(output_format.format(input=text, output=response))"
   ]
  },
  {
   "cell_type": "code",
   "execution_count": null,
   "metadata": {},
   "outputs": [],
   "source": []
  },
  {
   "cell_type": "code",
   "execution_count": null,
   "metadata": {},
   "outputs": [],
   "source": []
  },
  {
   "cell_type": "code",
   "execution_count": 5,
   "metadata": {},
   "outputs": [
    {
     "name": "stdout",
     "output_type": "stream",
     "text": [
      "IN: What would you like to eat tonight?\n",
      "OUT: Pasta with salmon and red pesto please!\n",
      "__________________________________________________\n",
      "__________________________________________________\n",
      "IN: What time will you be home tonight?\n",
      "OUT: I will be home around 6 pm.\n",
      "__________________________________________________\n",
      "__________________________________________________\n",
      "IN: I just found out my boss is leaving the company.\n",
      "OUT: I love you too!\n",
      "__________________________________________________\n"
     ]
    }
   ],
   "source": [
    "print(respond_exact(\"What would you like to eat tonight?\"))\n",
    "print(\"_\"*50)\n",
    "print(respond_exact(\"What time will you be home tonight?\"))\n",
    "print(\"_\"*50)\n",
    "print(respond_exact(\"I just found out my boss is leaving the company.\"))"
   ]
  },
  {
   "cell_type": "code",
   "execution_count": null,
   "metadata": {},
   "outputs": [],
   "source": []
  },
  {
   "cell_type": "markdown",
   "metadata": {},
   "source": [
    "# Think of ways to extend this functionality\n",
    "### More intresting way then above"
   ]
  },
  {
   "cell_type": "markdown",
   "metadata": {},
   "source": [
    "### Pattern Matching"
   ]
  },
  {
   "cell_type": "code",
   "execution_count": 6,
   "metadata": {},
   "outputs": [
    {
     "name": "stdout",
     "output_type": "stream",
     "text": [
      "{'dinner_preference': re.compile('eat|dinner|food|cook|craving'), 'arrival_time': re.compile('time|when|get here|be home')}\n"
     ]
    }
   ],
   "source": [
    "# Define keywords that can help determine the intent \n",
    "intent_keywords = {\n",
    "    'dinner_preference': ['eat', 'dinner', 'food', 'cook', 'craving'],\n",
    "    'arrival_time': ['time', 'when', 'get here', 'be home']\n",
    "}\n",
    "# Create a dictionary of patterns\n",
    "patterns = {intent: re.compile('|'.join(keys)) for intent, keys in intent_keywords.items()}\n",
    "print(patterns)\n",
    "\n",
    "x = \"ssd\" \n",
    "    \n",
    "# Define a function to find the intent of a message\n",
    "def get_intent_re(message):\n",
    "    for intent, pattern in patterns.items():\n",
    "        print(pattern)\n",
    "        print(\"pattern\")\n",
    "        # Check if the pattern occurs in the message \n",
    "        if pattern.search(message):\n",
    "            print(pattern)\n",
    "            x=pattern\n",
    "            return(intent)\n",
    "    else:\n",
    "        return('default')\n",
    "\n",
    "responses_re = {\n",
    "    \"dinner_preference\":\"Pasta with salmon and red pesto please!\",\n",
    "    \"arrival_time\": \"I will be home around 6 pm.\",\n",
    "    \"default\":\"I like you too!\"\n",
    "}\n",
    "\n",
    "def respond_re(text):\n",
    "    response = responses_re.get(get_intent_re(text))\n",
    "    return(output_format.format(input=text, output=response))"
   ]
  },
  {
   "cell_type": "markdown",
   "metadata": {},
   "source": [
    "# Test the model"
   ]
  },
  {
   "cell_type": "code",
   "execution_count": 15,
   "metadata": {},
   "outputs": [
    {
     "name": "stdout",
     "output_type": "stream",
     "text": [
      "re.compile('eat|dinner|food|cook|craving')\n",
      "pattern\n",
      "re.compile('eat|dinner|food|cook|craving')\n",
      "IN: what would you like to eat tonight?\n",
      "OUT: Pasta with salmon and red pesto please!\n",
      "__________________________________________________\n",
      "re.compile('eat|dinner|food|cook|craving')\n",
      "pattern\n",
      "re.compile('time|when|get here|be home')\n",
      "pattern\n",
      "re.compile('time|when|get here|be home')\n",
      "IN: what Time will you be home tonight?\n",
      "OUT: I will be home around 6 pm.\n",
      "__________________________________________________\n",
      "re.compile('eat|dinner|food|cook|craving')\n",
      "pattern\n",
      "re.compile('eat|dinner|food|cook|craving')\n",
      "IN: I just food out my boss is leaving the company.\n",
      "OUT: Pasta with salmon and red pesto please!\n",
      "__________________________________________________\n"
     ]
    }
   ],
   "source": [
    "print(respond_re(\"what would you like to eat tonight?\"))\n",
    "print(respond_re(\"what Time will you be home tonight?\"))\n",
    "print(respond_re(\"I just food out my boss is leaving the company.\"))"
   ]
  },
  {
   "cell_type": "markdown",
   "metadata": {},
   "source": [
    "#  Improve the chatbot's recognition capability"
   ]
  },
  {
   "cell_type": "markdown",
   "metadata": {},
   "source": [
    "# Machine Learning"
   ]
  },
  {
   "cell_type": "code",
   "execution_count": 19,
   "metadata": {},
   "outputs": [],
   "source": [
    "# Create training data\n",
    "training_sentences = [\n",
    "    \"What would you like to have for dinner?\",\n",
    "    \"What do you want to eat tonight?\",\n",
    "    \"I don't know what to cook tonight.\",\n",
    "    \"Do you have any cravings?\",\n",
    "    \"Can I get you something to eat?\", \n",
    "    \"What time will you be home?\",\n",
    "    \"How much longer will you be?\",\n",
    "    \"When can we expect you to get here?\",\n",
    "    \"What's taking you so long?\",\n",
    "    \"At what hour will you be here?\"\n",
    "    \n",
    "]\n",
    "training_intents = [\n",
    "    \"dinner_preference\",\n",
    "    \"dinner_preference\",\n",
    "    \"dinner_preference\",\n",
    "    \"dinner_preference\",\n",
    "    \"dinner_preference\",\n",
    "    \"arrival_time\",\n",
    "    \"arrival_time\",\n",
    "    \"arrival_time\",\n",
    "    \"arrival_time\",\n",
    "    \"arrival_time\"   \n",
    "]"
   ]
  },
  {
   "cell_type": "code",
   "execution_count": 31,
   "metadata": {},
   "outputs": [
    {
     "name": "stdout",
     "output_type": "stream",
     "text": [
      "[-0.37999904  1.4366493  -0.39146158 -1.4874463   1.273449   -0.39846846\n",
      "  2.5182962   0.16155809  2.4454978   0.88708836 -1.1809908  -0.7791125\n",
      " -0.70877385 -0.62728906  1.1418325  -0.39985     0.8955476  -0.27694124\n",
      "  0.66974145 -0.4005605  -0.81031275  2.0092072  -0.22384675 -0.5390665\n",
      " -0.52212197  0.20953064  1.1579183  -0.8464564  -0.14810008 -1.084637\n",
      "  0.51336277  0.7095223  -0.24087545  0.65720135  1.5130049   0.7513807\n",
      " -0.03782384 -1.6344999  -0.78699875 -0.5953057   1.2043288   0.3557264\n",
      "  0.05397994 -1.3730093   1.2144458   0.2515422   0.02564181 -0.93462753\n",
      "  0.21186331 -0.4929825   1.3270966  -0.5989956  -0.53856176  0.60303754\n",
      "  0.16740258 -0.45895937  1.6100334  -1.1702052   0.727762    0.20167129\n",
      "  1.0913477  -1.9087391  -0.10602716 -0.1287096  -1.5597409  -1.1373566\n",
      " -0.35643154  0.7663996  -0.44523212  1.1251302  -0.02781359  1.6067293\n",
      "  1.296372    1.0935881  -1.1350503  -0.73320806  1.1707611  -0.2808973\n",
      " -0.07593269  0.2345999   0.2830874  -0.04026026  0.09893635  0.6862086\n",
      " -0.03250274 -1.2674006   0.27138475  0.3903311  -0.40830767  0.3174905\n",
      " -0.9150234  -1.0970839  -1.2288455   0.4328397  -1.2184354   0.00509951]\n",
      "0\n",
      "1\n",
      "[-1.5115137   1.8573251  -1.4998381  -1.6092625   1.2976148  -0.25432798\n",
      "  2.049481    0.80159724  2.1998596   1.0016811  -0.64147246 -1.5110047\n",
      " -0.20773154 -0.64286476  1.5574458   0.6639459   0.33730626 -0.17531486\n",
      "  1.2281541   0.2677744  -0.556002    1.2186854  -0.7693463  -0.7794641\n",
      " -1.1707159  -1.4123216   0.9192995  -0.7237546   0.52438694 -1.0412412\n",
      "  1.167       0.7934037   1.2534673   0.7024625   1.7884396   0.6446651\n",
      " -0.08568525 -1.3900614  -0.06685516 -1.0620843   0.48683912 -0.07125449\n",
      "  0.1820851  -1.4490609   1.1822041  -0.3588597  -0.19361056 -1.9434946\n",
      " -0.34392738 -0.6903094   1.6284764   0.10029013  0.12179969  0.42402858\n",
      "  0.17767175 -0.9769032   1.8684441  -1.1794169   0.32019073  1.1890737\n",
      "  2.7250886  -2.237966   -0.582615    0.46238604 -1.2853895  -1.7608943\n",
      " -0.08428457  2.06524    -0.7797961   0.34967732 -0.9066293   1.9170808\n",
      "  1.5972766   0.09404825 -1.4253174   0.51209295  1.3127097   0.40208793\n",
      "  0.9325081  -0.33203873  0.36895102  0.10446031  0.36146128  0.91088474\n",
      " -0.04915629 -1.6697977   0.17670707  1.025801   -1.3547251  -0.37580088\n",
      " -0.53744555 -0.8556251  -2.0375082   0.6025881  -0.491818   -0.19074175]\n",
      "1\n",
      "2\n",
      "[-1.599305    1.7173467  -1.6157442  -1.8074641   0.6458448  -0.08316319\n",
      "  1.6038342   0.5199533   2.0222752   1.6894372  -0.60188854 -1.2310996\n",
      "  0.6088893   0.06033234  1.5811653   0.2883157   0.77771735  0.47030047\n",
      " -0.12351593 -0.26139274 -0.647718    0.23643857 -0.57286215 -0.4170386\n",
      " -0.9463096   0.11672732  0.22317584 -1.3927683  -0.04413261 -0.96070796\n",
      "  1.0911088   0.8954476   0.7532416   0.26173747  2.0872886  -0.03640061\n",
      "  0.09626023 -1.1226281   0.37827456 -0.164929    0.52034485  0.07208196\n",
      "  0.22643773 -1.9133859   1.3578094   0.4641026   0.70107394 -0.78262216\n",
      " -0.76621276  0.8210595   0.98756504 -0.81560206  0.08711976 -0.10793495\n",
      " -0.50437844 -1.3499764   1.4566073  -0.7350528   0.60324776  0.42463332\n",
      "  1.7859584  -1.4470145  -0.21920401  0.06439225 -0.65684897 -1.8378118\n",
      " -0.26127332  0.4757691  -0.81245536  0.28720763 -0.8369483   1.832652\n",
      "  0.9866011  -0.12062817 -0.552786   -0.03361967  0.7703307   1.0839204\n",
      " -0.03012197 -0.34488323  0.08558422 -0.02572274 -0.42502573  1.0200049\n",
      "  0.21077752 -0.96962875  1.0303235   1.330786   -1.429554   -0.35523897\n",
      " -0.28888008 -0.07221328 -1.6381947   0.8846368  -0.44563138 -0.64019537]\n",
      "2\n",
      "3\n",
      "[-1.1317443   1.086681   -0.34918824 -2.1799023   1.9062281  -0.02398584\n",
      "  1.6951822   0.1288497   1.9847327   0.81167626 -2.6077044  -0.26584303\n",
      " -0.12660308  1.2056906  -0.43116546 -0.06046994 -0.43686375 -0.9135299\n",
      "  1.2413133  -0.32126954  0.5822113   0.941935   -2.940073   -0.86561203\n",
      " -0.4728829  -0.7277355   0.22972488 -0.1837944  -0.34244737 -0.8307101\n",
      "  1.2169417   0.23520513 -0.42074156 -1.40241     0.20526914  0.8023141\n",
      " -0.36869526 -0.31535843 -1.4602252   0.560662   -0.5053179   0.34408018\n",
      "  0.30392477 -1.2545849   0.71278477  0.1778729   0.01476949 -0.69167995\n",
      "  1.2973933   0.7849826   3.300751   -0.60919833 -0.5290324   0.8183863\n",
      " -1.2819489  -0.2694017   1.7225112  -0.4374907  -0.4822924   1.355735\n",
      "  2.3569512  -0.3260468  -0.840656    0.7367298   0.84523374 -1.7518134\n",
      "  0.9783027   2.57203    -0.64649504  0.44194737 -0.3038834   1.819191\n",
      "  1.9361925  -0.22342773  0.17437601  1.2953948   1.0402445   0.91392094\n",
      " -0.5925127  -1.1794492  -1.1283946   0.04425031 -0.49515906  0.6720479\n",
      "  0.39972863 -0.64717925  0.32679734 -0.72584695 -0.2557645  -0.4307951\n",
      " -1.2373606  -1.5858189   0.8143094  -0.25898325 -1.3584795   0.79516476]\n",
      "3\n",
      "4\n",
      "[ 0.07820234  2.1419048  -1.4769752  -2.7927616   0.9158798  -1.406378\n",
      "  1.8625815   1.7193741   2.4024963   1.4801059   0.233531   -2.036969\n",
      "  0.21569213  0.2605322   0.6960825   0.9513341  -0.07255334 -0.20628163\n",
      " -0.67520946  0.35942447  0.03213084  0.5951656  -0.8543033  -0.4352572\n",
      " -0.8690114  -1.1845204   0.9613156  -0.467723    0.06949121 -0.6426729\n",
      "  1.5211071   0.870795    0.8474709  -0.53107095  1.1123247   1.4602084\n",
      " -0.06231646 -0.1738446  -0.42566442 -0.9516611   1.522661    0.43731016\n",
      "  0.12891538 -1.4894925   1.3418006   0.02327204  0.08992472 -0.9299151\n",
      " -0.40087345  0.06527044  2.116593   -0.23469257  0.15018678  1.0841014\n",
      "  0.8167032  -1.261097    1.7210456  -1.5525397  -0.3929309   0.9741905\n",
      "  2.9643664  -1.5672921  -1.2060274   0.7640278  -1.4004921  -2.4940186\n",
      " -0.4187895   1.5015574  -1.0830534   0.7860751  -1.9255439   1.4001033\n",
      "  1.0453175   0.06114341 -0.20326683  0.3131143   1.3831785   0.49646285\n",
      " -0.28081995 -0.21973673  0.68987083  0.6001426  -1.2319429   0.61430454\n",
      " -0.16349332 -0.9435623   0.30178878  0.35627353 -0.6607751   0.5884241\n",
      " -1.1424634  -1.1422013  -1.3471564  -0.42312878 -0.47769    -0.33632773]\n",
      "4\n",
      "5\n",
      "[-0.02127075  1.0796093  -0.4449578  -1.7997342   1.6328074  -0.2679925\n",
      "  2.5616798   1.9836584   1.2905835   1.6368641  -1.8181934  -0.83218575\n",
      "  0.12005547 -0.27877912  1.2088917   0.26758188  0.593039   -0.4699952\n",
      " -0.6741012  -0.20577912  0.6701536   0.45773935 -0.719444   -1.1875869\n",
      " -1.0338881  -0.00746055  1.5882822  -0.7720251   0.94485563 -0.6101941\n",
      "  1.0399468   2.139693   -0.83037937 -0.61637753  1.0259904   0.5506756\n",
      " -0.2849075  -1.4584302  -1.2860432  -0.11093961  1.1078341   0.7074642\n",
      " -0.82656914 -1.8245705   0.84039825  0.3976632  -0.1836679  -0.95090073\n",
      " -1.4164212  -0.04915008  2.9617705  -0.0301914  -0.32825485  1.5514059\n",
      "  0.47879228 -0.78036445  1.6827768  -0.8238054   0.29826277  0.85877705\n",
      "  1.2715389  -1.6053442   0.98289865 -0.48503608 -0.36048293 -1.7927163\n",
      "  0.30170506 -1.6952375  -0.2980685   1.0315998  -0.27794677  0.6626709\n",
      " -0.6124732   0.7454745  -1.7053648   0.31281444  1.3474605   0.7562557\n",
      " -0.3633778  -1.0093681   0.32267883 -0.23581846 -0.35963234  1.2503296\n",
      " -0.11360986 -1.3486207  -0.04858637  0.7290874  -0.5859889   0.27170256\n",
      " -0.57007563 -1.0741308  -2.4561768   1.4908457   0.41068047 -0.22830227]\n",
      "5\n",
      "6\n",
      "[ 0.7940693   1.1123078   0.63428986 -1.9562919   1.0767511  -0.5997204\n",
      "  1.4989558   2.0587754   0.45816725  1.0191548  -2.1560452  -0.82963073\n",
      "  0.6966378  -0.10132076 -0.13641381  1.4890686   0.5136019  -0.9056918\n",
      " -0.7655417   1.1000073  -0.9617347  -0.24543963 -1.1723248  -0.20686118\n",
      " -0.69347274  2.0373404   1.8734556  -1.3452654   0.57995224  0.2836111\n",
      " -0.00796508  0.3968832  -0.04768566 -0.37507322  1.417602    0.5025702\n",
      " -1.7015638  -0.65591866 -0.995756   -0.4809042   0.1667569   0.19067599\n",
      " -0.5946841  -0.8635694   0.8432206   2.2607133  -0.5149593  -0.653506\n",
      "  0.18177809 -0.79264486  1.7477213   1.6192483  -0.757896    1.7836438\n",
      " -0.08868708 -1.0763923   0.74945223 -0.73837197  0.12565263 -0.0397875\n",
      "  0.9750468  -1.9513035  -0.27715454 -0.5442348  -0.7511314  -1.7726687\n",
      " -0.7149272  -1.6150615   0.09337722  0.9135359  -0.44055557  0.39123747\n",
      "  0.40598866 -0.7133698  -0.22267613 -0.3541053   2.1745136   0.40764672\n",
      " -1.3504603  -0.21634795 -0.4905572   1.528272    0.73362607  1.5020977\n",
      " -0.8279629  -1.0789458   0.36731413  0.20289621  0.02670455  0.84687275\n",
      "  0.5842071  -1.0835128  -0.37190357  0.9834589  -0.22837733 -0.27148268]\n",
      "6\n",
      "7\n",
      "[ 0.17762804  1.7404902  -0.8585696  -2.432396    1.0252341  -0.04301612\n",
      "  1.514774    0.6781391   1.5967155   1.418125   -0.9378855  -1.1476989\n",
      "  0.30160668 -0.21505629  0.8675849   0.4980558  -0.0599752  -0.51089084\n",
      "  0.02019201  0.7524997  -0.18653661  0.08216492 -0.59417653 -0.42177188\n",
      " -1.0378823  -0.1844098   1.5430446  -0.22455798 -0.48026732 -0.89792603\n",
      "  0.5222251  -0.26561552  0.544185   -0.22587344  1.7035046   2.0090396\n",
      " -0.2502662  -0.65461946 -0.7741397  -0.6445283  -0.496489    0.16553894\n",
      "  0.6032252  -0.9027462   1.2398536   0.6626748   0.29239428 -1.4796863\n",
      " -0.28489226 -0.46748272  1.9378552   0.4581375   0.25289816  1.455967\n",
      "  0.644828   -0.9486125   0.89190686 -1.3418336   0.2430076   0.16734894\n",
      "  2.0887144  -1.8089536  -0.9233727   0.53744125 -1.7001309  -1.8748188\n",
      "  0.5033165   1.7103264   0.76075476  0.8216727  -0.5979673   1.6493031\n",
      "  2.4481726  -0.36383307  0.2679527   0.58905685  1.2058531   0.07778772\n",
      " -0.999753   -0.7045109  -0.4094308   0.5998798  -0.5802781   0.7545412\n",
      " -0.80032486 -0.4181021   0.8665366   0.07117163 -0.3550043  -0.36288702\n",
      " -1.3000616  -1.5146441  -0.9857333   0.51336163 -1.7295148   0.14294264]\n",
      "7\n",
      "8\n",
      "[ 1.0360463   0.85740674  0.06081605 -1.1171337   1.7191609  -1.9331224\n",
      "  2.2798514   1.4456981   0.7609781   0.80913514 -1.7169306  -1.0990604\n",
      "  0.8675837   1.441209    0.81168514  0.4813564  -0.11992751 -0.9497239\n",
      " -1.3289175  -0.4383351   0.35950655 -1.4279749  -0.58480674 -0.31488448\n",
      " -1.006881    0.03250255  0.71643454 -0.406629    0.40734956  1.1535369\n",
      "  0.32137135  1.7316679  -1.0427697  -0.21858753  0.22450005 -0.3164487\n",
      " -0.00603656 -0.6340041  -1.7880596  -0.5478466  -0.6788274  -0.33904245\n",
      "  0.30174378 -0.58632916  1.87403     1.609123    1.1627513  -0.49647436\n",
      " -1.674353   -0.34307638  1.4512101   2.2158313   0.04458547  0.12334739\n",
      "  0.32473093 -1.1339662   2.1713083   0.22471626  0.02299788  0.58093643\n",
      "  0.44360867 -0.06745897 -0.11832441 -0.20962326 -0.7682265  -0.08017286\n",
      " -1.6285247  -0.8572964  -0.98815197  0.25599328 -1.2609509   0.1687506\n",
      "  0.54893816  0.4765691  -0.88052875 -1.6999538   1.888027   -0.31816414\n",
      " -0.9779726  -0.85804456 -1.0083474  -0.49907845  0.9111528   1.5293723\n",
      "  0.18155645 -0.95487446  1.0430777   1.3358887  -0.42016596  0.44925138\n"
     ]
    },
    {
     "name": "stdout",
     "output_type": "stream",
     "text": [
      "  0.54884577 -0.18421316 -0.911656    0.14553373 -0.06847803  0.17393239]\n",
      "8\n",
      "9\n",
      "[ 0.37953764  0.8685911   0.7236159  -1.2433865   1.6689554  -0.40090388\n",
      "  2.0293453   0.60692114  0.84356225  2.0574675  -2.2083611  -1.3734822\n",
      " -0.36329475 -0.57033896  1.2756644   0.34523058 -0.01872694 -0.65553844\n",
      " -0.2500412  -0.02368946 -0.24374306  0.11420363 -0.51524734 -1.0222414\n",
      " -1.2797331   0.2205891   1.6595273   0.18941525  0.9030175  -0.6154912\n",
      "  0.4021357   1.8067738   0.10230599 -0.4802037   1.0607636   0.31172383\n",
      " -0.16524316 -1.1398956  -1.5498234  -0.3174861   1.0858397   1.0715729\n",
      " -0.79153216 -1.5674682   1.0219722   0.00924551  0.4188317  -0.2195645\n",
      " -1.2669712  -0.02470809  2.1355813   0.2696569  -0.65715027  1.2054223\n",
      "  0.3493147  -0.52735096  0.8976283   0.08114707 -0.23098552  0.37434852\n",
      "  0.96963847 -1.1836685   0.3182528  -0.29717708 -0.21084179 -1.4934683\n",
      "  0.37612587 -1.1145664   0.3357888   0.5226019  -0.23921695  0.3609699\n",
      "  0.6080345   0.35588565 -0.9691924   0.2719466   1.320529    0.12223378\n",
      " -0.7922206  -0.53225136  0.24692278 -0.26349795  0.15698463  1.436727\n",
      " -0.22370844 -1.2001725   0.18460825  1.1543757  -0.7662424   0.3254906\n",
      " -0.4822386  -1.0808586  -1.9588519   0.73165286 -0.08784389  0.27028227]\n",
      "9\n",
      "10\n"
     ]
    }
   ],
   "source": [
    "# Initialize the array with zeros: X\n",
    "X_train = np.zeros((len(training_sentences), \n",
    "              nlp('sentences').vocab.vectors_length))\n",
    "x=0\n",
    "d = []\n",
    "\n",
    "for i, sentence in enumerate(training_sentences):\n",
    "    # Pass each each sentence to the nlp object to create a document\n",
    "    doc = nlp(sentence)\n",
    "    # Save the document's .vector attribute to the corresponding row in X\n",
    "    # X_train[i, :] = doc.vector\n",
    "    print(doc.vector)\n",
    "    d.append(doc.vector)\n",
    "    x = x + 1\n",
    "    print(i)\n",
    "    print(x)"
   ]
  },
  {
   "cell_type": "code",
   "execution_count": 32,
   "metadata": {},
   "outputs": [],
   "source": [
    "X_train = np.array(d)"
   ]
  },
  {
   "cell_type": "code",
   "execution_count": 26,
   "metadata": {},
   "outputs": [],
   "source": [
    "import spacy\n",
    "nlp = spacy.load(\"en_core_web_sm\")"
   ]
  },
  {
   "cell_type": "code",
   "execution_count": 27,
   "metadata": {},
   "outputs": [],
   "source": [
    "# Initialize the array with zeros: X\n",
    "X_train = np.zeros((len(training_sentences), nlp('sentences').vocab.vectors_length))"
   ]
  },
  {
   "cell_type": "code",
   "execution_count": 28,
   "metadata": {},
   "outputs": [
    {
     "data": {
      "text/plain": [
       "(10, 0)"
      ]
     },
     "execution_count": 28,
     "metadata": {},
     "output_type": "execute_result"
    }
   ],
   "source": [
    "X_train.shape"
   ]
  },
  {
   "cell_type": "code",
   "execution_count": null,
   "metadata": {},
   "outputs": [],
   "source": [
    "import pandas as pd\n",
    "import numpy as np\n",
    "df = pd.DataFrame({'col1': [1, 2], 'col2': [3, 4],\n",
    "                   'col3': [5, 6]})"
   ]
  },
  {
   "cell_type": "code",
   "execution_count": null,
   "metadata": {},
   "outputs": [],
   "source": [
    "df.head()"
   ]
  },
  {
   "cell_type": "code",
   "execution_count": null,
   "metadata": {},
   "outputs": [],
   "source": [
    "df.shape"
   ]
  },
  {
   "cell_type": "code",
   "execution_count": null,
   "metadata": {},
   "outputs": [],
   "source": [
    "X_train"
   ]
  },
  {
   "cell_type": "code",
   "execution_count": null,
   "metadata": {},
   "outputs": [],
   "source": []
  },
  {
   "cell_type": "code",
   "execution_count": 29,
   "metadata": {},
   "outputs": [],
   "source": [
    "# Create a support vector classifier\n",
    "clf = SVC(C=1, gamma=\"auto\", probability=True)\n",
    "\n"
   ]
  },
  {
   "cell_type": "code",
   "execution_count": null,
   "metadata": {},
   "outputs": [],
   "source": []
  },
  {
   "cell_type": "code",
   "execution_count": 33,
   "metadata": {},
   "outputs": [
    {
     "data": {
      "text/plain": [
       "SVC(C=1, break_ties=False, cache_size=200, class_weight=None, coef0=0.0,\n",
       "    decision_function_shape='ovr', degree=3, gamma='auto', kernel='rbf',\n",
       "    max_iter=-1, probability=True, random_state=None, shrinking=True, tol=0.001,\n",
       "    verbose=False)"
      ]
     },
     "execution_count": 33,
     "metadata": {},
     "output_type": "execute_result"
    }
   ],
   "source": [
    "# Fit the classifier using the training data\n",
    "clf.fit(X_train, training_intents)"
   ]
  },
  {
   "cell_type": "code",
   "execution_count": null,
   "metadata": {},
   "outputs": [],
   "source": []
  },
  {
   "cell_type": "code",
   "execution_count": 34,
   "metadata": {},
   "outputs": [],
   "source": [
    "def get_intent_ml(text):\n",
    "    doc = nlp(text)\n",
    "    return(clf.predict([doc.vector])[0])"
   ]
  },
  {
   "cell_type": "code",
   "execution_count": null,
   "metadata": {},
   "outputs": [],
   "source": []
  },
  {
   "cell_type": "code",
   "execution_count": 35,
   "metadata": {},
   "outputs": [],
   "source": [
    "responses_ml = {\n",
    "    \"dinner_preference\":\"Pasta with salmon and red pesto please!\",\n",
    "    \"arrival_time\": \"I will be home around 6 pm.\",\n",
    "    \"default\":\"I like you too!\"\n",
    "}\n",
    "\n",
    "def respond_ml(text):\n",
    "    response = responses_ml.get(get_intent_ml(text), responses_ml[\"default\"])\n",
    "    return(output_format.format(input=text, output=response))"
   ]
  },
  {
   "cell_type": "code",
   "execution_count": null,
   "metadata": {},
   "outputs": [],
   "source": []
  },
  {
   "cell_type": "code",
   "execution_count": 36,
   "metadata": {},
   "outputs": [
    {
     "name": "stdout",
     "output_type": "stream",
     "text": [
      "IN: what is akash?\n",
      "OUT: I will be home around 6 pm.\n",
      "__________________________________________________\n",
      "IN: what time will you be home tonight?\n",
      "OUT: I will be home around 6 pm.\n",
      "__________________________________________________\n",
      "IN: l\n",
      "OUT: Pasta with salmon and red pesto please!\n",
      "__________________________________________________\n"
     ]
    }
   ],
   "source": [
    "print(respond_ml(\"what is akash?\"))\n",
    "print(respond_ml(\"what time will you be home tonight?\"))\n",
    "print(respond_ml(\"l\"))"
   ]
  },
  {
   "cell_type": "code",
   "execution_count": null,
   "metadata": {},
   "outputs": [],
   "source": []
  }
 ],
 "metadata": {
  "kernelspec": {
   "display_name": "Python 3",
   "language": "python",
   "name": "python3"
  },
  "language_info": {
   "codemirror_mode": {
    "name": "ipython",
    "version": 3
   },
   "file_extension": ".py",
   "mimetype": "text/x-python",
   "name": "python",
   "nbconvert_exporter": "python",
   "pygments_lexer": "ipython3",
   "version": "3.6.5"
  }
 },
 "nbformat": 4,
 "nbformat_minor": 4
}
